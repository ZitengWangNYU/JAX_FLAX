{
 "cells": [
  {
   "cell_type": "code",
   "execution_count": 1,
   "id": "e3d1b048",
   "metadata": {},
   "outputs": [],
   "source": [
    "import os\n",
    "os.environ['JAX_PLATFORMS'] = 'cpu'"
   ]
  },
  {
   "cell_type": "code",
   "execution_count": 2,
   "id": "9ab88a2c",
   "metadata": {},
   "outputs": [
    {
     "data": {
      "text/plain": [
       "[CpuDevice(id=0),\n",
       " CpuDevice(id=1),\n",
       " CpuDevice(id=2),\n",
       " CpuDevice(id=3),\n",
       " CpuDevice(id=4),\n",
       " CpuDevice(id=5),\n",
       " CpuDevice(id=6),\n",
       " CpuDevice(id=7),\n",
       " CpuDevice(id=8),\n",
       " CpuDevice(id=9),\n",
       " CpuDevice(id=10),\n",
       " CpuDevice(id=11),\n",
       " CpuDevice(id=12),\n",
       " CpuDevice(id=13),\n",
       " CpuDevice(id=14),\n",
       " CpuDevice(id=15),\n",
       " CpuDevice(id=16),\n",
       " CpuDevice(id=17),\n",
       " CpuDevice(id=18),\n",
       " CpuDevice(id=19),\n",
       " CpuDevice(id=20),\n",
       " CpuDevice(id=21),\n",
       " CpuDevice(id=22),\n",
       " CpuDevice(id=23),\n",
       " CpuDevice(id=24),\n",
       " CpuDevice(id=25),\n",
       " CpuDevice(id=26),\n",
       " CpuDevice(id=27),\n",
       " CpuDevice(id=28),\n",
       " CpuDevice(id=29),\n",
       " CpuDevice(id=30),\n",
       " CpuDevice(id=31)]"
      ]
     },
     "execution_count": 2,
     "metadata": {},
     "output_type": "execute_result"
    }
   ],
   "source": [
    "import jax\n",
    "jax.config.update('jax_num_cpu_devices', 32)\n",
    "jax.devices()\n"
   ]
  },
  {
   "cell_type": "markdown",
   "id": "f77e7d41",
   "metadata": {},
   "source": [
    "# Tutorial of using multiple CPUs for distributed JAX computation"
   ]
  },
  {
   "cell_type": "markdown",
   "id": "3af3c741",
   "metadata": {},
   "source": [
    "\"\"\"\n",
    "------------------------------------------------------------------------------------------------\n",
    "Baseline setting (TPUv4-8 with 1 host and 4 devices)\n",
    "import jax\n",
    "jax.devices()\n",
    "--> \n",
    "[TpuDevice(id=0, process_index=0, coords=(0,0,0), core_on_chip=0),\n",
    " TpuDevice(id=1, process_index=0, coords=(1,0,0), core_on_chip=0),\n",
    " TpuDevice(id=2, process_index=0, coords=(0,1,0), core_on_chip=0),\n",
    " TpuDevice(id=3, process_index=0, coords=(1,1,0), core_on_chip=0)]\n",
    "\n",
    "\n",
    "------------------------------------------------------------------------------------------------\n",
    "Using CPU as device for JAX computations\n",
    "\n",
    "import os\n",
    "os.environ['JAX_PLATFORMS'] = 'cpu'\n",
    "import jax\n",
    "jax.devices()\n",
    "--> \n",
    "[CpuDevice(id=0)]\n",
    "\n",
    "\n",
    "------------------------------------------------------------------------------------------------\n",
    "Using CPU as device for JAX computations with 32 devices (or even more)\n",
    "\n",
    "import os\n",
    "os.environ['JAX_PLATFORMS'] = 'cpu'\n",
    "import jax\n",
    "jax.config.update('jax_num_cpu_devices', 32)\n",
    "jax.devices()\n",
    "--> \n",
    "[CpuDevice(id=0),\n",
    " CpuDevice(id=1),\n",
    " CpuDevice(id=2),\n",
    " ...\n",
    " CpuDevice(id=29),\n",
    " CpuDevice(id=30),\n",
    " CpuDevice(id=31)]\n",
    "\n",
    "\"\"\""
   ]
  },
  {
   "cell_type": "code",
   "execution_count": 3,
   "id": "42eb2da5",
   "metadata": {},
   "outputs": [
    {
     "data": {
      "text/plain": [
       "'\\nWhy useful?\\n\\nInside a TPUv4-8, there are only 4 devices, so experimenting/exploring with sharding strategies is limited.\\n\\nUsing CPU as device for JAX computations with many devices allows for more flexibility in sharding strategies.\\n\\n\\n\\n'"
      ]
     },
     "execution_count": 3,
     "metadata": {},
     "output_type": "execute_result"
    }
   ],
   "source": [
    "\"\"\"\n",
    "Why useful?\n",
    "\n",
    "Inside a TPUv4-8, there are only 4 devices, so experimenting/exploring with sharding strategies is limited.\n",
    "\n",
    "Using CPU as device for JAX computations with many devices allows for more flexibility in sharding strategies.\n",
    "\n",
    "\n",
    "\n",
    "\"\"\""
   ]
  },
  {
   "cell_type": "code",
   "execution_count": null,
   "id": "8a5729fc",
   "metadata": {},
   "outputs": [],
   "source": []
  }
 ],
 "metadata": {
  "kernelspec": {
   "display_name": "gemma",
   "language": "python",
   "name": "python3"
  },
  "language_info": {
   "codemirror_mode": {
    "name": "ipython",
    "version": 3
   },
   "file_extension": ".py",
   "mimetype": "text/x-python",
   "name": "python",
   "nbconvert_exporter": "python",
   "pygments_lexer": "ipython3",
   "version": "3.11.11"
  }
 },
 "nbformat": 4,
 "nbformat_minor": 5
}
